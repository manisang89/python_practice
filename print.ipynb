{
 "cells": [
  {
   "cell_type": "code",
   "execution_count": 1,
   "metadata": {},
   "outputs": [
    {
     "name": "stdout",
     "output_type": "stream",
     "text": [
      "hi this is Manikesh\n"
     ]
    }
   ],
   "source": [
    "#1 using print() method\n",
    "print(\"hi this is Manikesh\")"
   ]
  },
  {
   "cell_type": "code",
   "execution_count": null,
   "metadata": {},
   "outputs": [
    {
     "name": "stdout",
     "output_type": "stream",
     "text": [
      "My name is Manikesh and my age is 20\n"
     ]
    }
   ],
   "source": [
    "#2 using multiple arguments\n",
    "name=\"Manikesh\"\n",
    "age=20\n",
    "print(\"My name is\",name,\"and my age is\",age)"
   ]
  },
  {
   "cell_type": "code",
   "execution_count": 4,
   "metadata": {},
   "outputs": [
    {
     "name": "stdout",
     "output_type": "stream",
     "text": [
      "the addition of 10 and 20 is 30\n"
     ]
    }
   ],
   "source": [
    "#3 using f-strings\n",
    "a=10\n",
    "b=20\n",
    "print(f\"the addition of {a} and {b} is {a+b}\")"
   ]
  },
  {
   "cell_type": "code",
   "execution_count": null,
   "metadata": {},
   "outputs": [
    {
     "name": "stdout",
     "output_type": "stream",
     "text": [
      "The capital of India is Delhi\n"
     ]
    }
   ],
   "source": [
    "#4 using .format() method\n",
    "cap=\"Delhi\"\n",
    "con=\"India\"\n",
    "print(\"The capital of {} is {}\".format(con,cap))"
   ]
  },
  {
   "cell_type": "code",
   "execution_count": 10,
   "metadata": {},
   "outputs": [
    {
     "name": "stdout",
     "output_type": "stream",
     "text": [
      "the value of pi is 3.14 and value of gravity is 9.8\n"
     ]
    }
   ],
   "source": [
    "#5 using % formatting\n",
    "print(\"the value of pi is %.2f and value of gravity is %.1f\"%(3.14,9.8))"
   ]
  },
  {
   "cell_type": "code",
   "execution_count": null,
   "metadata": {},
   "outputs": [
    {
     "name": "stdout",
     "output_type": "stream",
     "text": [
      "apple\n",
      "banana\n",
      "mango\n",
      "orange\n"
     ]
    }
   ],
   "source": [
    "#6 using print with sep (separator)\n",
    "\n",
    "print(\"apple\",\"banana\",\"mango\" ,\"orange\",sep='\\n')"
   ]
  },
  {
   "cell_type": "code",
   "execution_count": 17,
   "metadata": {},
   "outputs": [
    {
     "name": "stdout",
     "output_type": "stream",
     "text": [
      "apple--banana--mango--orange\n"
     ]
    }
   ],
   "source": [
    "print(\"apple\",\"banana\",\"mango\" ,\"orange\",sep='--')"
   ]
  },
  {
   "cell_type": "code",
   "execution_count": null,
   "metadata": {},
   "outputs": [
    {
     "name": "stdout",
     "output_type": "stream",
     "text": [
      "python programming --is good\n"
     ]
    }
   ],
   "source": [
    "#7 using print with end   (default is \\n we can change it whatever required)\n",
    "\n",
    "print(\"python programming \",end=\"--\")\n",
    "print(\"is good\")"
   ]
  },
  {
   "cell_type": "code",
   "execution_count": null,
   "metadata": {},
   "outputs": [
    {
     "name": "stdout",
     "output_type": "stream",
     "text": [
      "Hello, Hello\n",
      "smile,☺\n"
     ]
    }
   ],
   "source": [
    "#8 print using unicode \\u\n",
    "\n",
    "print(\"Hello, \\u0048\\u0065\\u006c\\u006c\\u006f\")\n",
    "print(\"smile,\\u263A\")"
   ]
  }
 ],
 "metadata": {
  "kernelspec": {
   "display_name": "Python 3",
   "language": "python",
   "name": "python3"
  },
  "language_info": {
   "codemirror_mode": {
    "name": "ipython",
    "version": 3
   },
   "file_extension": ".py",
   "mimetype": "text/x-python",
   "name": "python",
   "nbconvert_exporter": "python",
   "pygments_lexer": "ipython3",
   "version": "3.12.1"
  }
 },
 "nbformat": 4,
 "nbformat_minor": 2
}
